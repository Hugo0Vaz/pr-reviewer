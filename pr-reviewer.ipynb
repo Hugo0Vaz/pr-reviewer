{
 "cells": [
  {
   "cell_type": "code",
   "execution_count": 1,
   "id": "4ba010c3-ea76-4b70-b0cc-3454236b1066",
   "metadata": {
    "editable": true,
    "slideshow": {
     "slide_type": ""
    },
    "tags": []
   },
   "outputs": [],
   "source": [
    "import requests\n",
    "import base64"
   ]
  },
  {
   "cell_type": "code",
   "execution_count": 2,
   "id": "cc6b73c2-3544-464f-a490-3099c059d479",
   "metadata": {},
   "outputs": [],
   "source": [
    "# my personal github token\n",
    "GITHUB_TOKEN = \"\"\n",
    "\n",
    "# my repo configurations\n",
    "REPO_NAME = \"erp\"\n",
    "REPO_ORG = \"Kotchergenko-Engenharia\""
   ]
  },
  {
   "cell_type": "code",
   "execution_count": 3,
   "id": "fc4c87e2-1493-460c-a0bd-864fb81c92a2",
   "metadata": {},
   "outputs": [],
   "source": [
    "# pull request number\n",
    "pull_request_number = 156"
   ]
  },
  {
   "cell_type": "code",
   "execution_count": 4,
   "id": "cc73654d-e936-4c43-9c82-8ee98ea35a8c",
   "metadata": {},
   "outputs": [],
   "source": [
    "def get_pull_request(pr_number: int, repo_owner: str, repo_name: str, token: str) -> requests.Response:\n",
    "    \"\"\" load numbered pull request \"\"\"\n",
    "\n",
    "    url = f'https://api.github.com/repos/{repo_owner}/{repo_name}/pulls/{pr_number}'\n",
    "    headers = {\n",
    "        'Authorization': f'token {token}',\n",
    "        'Accept': 'application/vnd.github+json',\n",
    "    }\n",
    "    response = requests.get(url, headers=headers)\n",
    "    if response.status_code != 200:\n",
    "        raise Exception(f\"Error fetching pull request: {response.status_code}\")\n",
    "    return response"
   ]
  },
  {
   "cell_type": "code",
   "execution_count": 5,
   "id": "98c3b0f3-2b1e-413b-ad74-e5dc6c92e5ce",
   "metadata": {},
   "outputs": [],
   "source": [
    "def get_pr_files(pr_number: int, repo_owner: str, repo_name: str, token: str):\n",
    "    \"\"\" load numbered pull request \"\"\"\n",
    "\n",
    "    url = f'https://api.github.com/repos/{repo_owner}/{repo_name}/pulls/{pr_number}/files'\n",
    "    headers = {\n",
    "        'Authorization': f'token {token}',\n",
    "        'Accept': 'application/vnd.github+json',\n",
    "    }\n",
    "    response = requests.get(url, headers=headers)\n",
    "    if response.status_code != 200:\n",
    "        raise Exception(f\"Error fetching pull request: {response.status_code}\")\n",
    "\n",
    "    return response"
   ]
  },
  {
   "cell_type": "code",
   "execution_count": 6,
   "id": "e35e39c4-1315-48c3-b9e6-4e8bc9d718bc",
   "metadata": {},
   "outputs": [],
   "source": [
    "def get_file_content(url: str, gh_token: str):\n",
    "    \"\"\" get the file content \"\"\"\n",
    "\n",
    "    headers = {\n",
    "        'Authorization': f'token {gh_token}',\n",
    "        'Accept': 'application/vnd.github+json',\n",
    "    }\n",
    "\n",
    "    response = requests.get(url, headers=headers)\n",
    "    if response.status_code != 200:\n",
    "        raise Exception(\n",
    "            f\"Error fetching file contents: {response.status_code}\")\n",
    "\n",
    "    return response"
   ]
  },
  {
   "cell_type": "code",
   "execution_count": 7,
   "id": "9c3794a2-4306-41bb-868f-1b74cc7ebd4d",
   "metadata": {},
   "outputs": [],
   "source": [
    "def string_to_base64(s):\n",
    "    return base64.b64encode(s.encode('utf-8'))\n",
    "\n",
    "def base64_to_string(b):\n",
    "    return base64.b64decode(b).decode('utf-8')"
   ]
  },
  {
   "cell_type": "code",
   "execution_count": 8,
   "id": "199c79ec-06f2-4847-9a21-5ab35896d348",
   "metadata": {},
   "outputs": [],
   "source": [
    "full_pullrequest = get_pull_request(pull_request_number, REPO_ORG, REPO_NAME, GITHUB_TOKEN).json()"
   ]
  },
  {
   "cell_type": "code",
   "execution_count": 9,
   "id": "b32bb98c-b0cc-485a-a1b9-e0b3bb4cfd8b",
   "metadata": {},
   "outputs": [],
   "source": [
    "files_pullrequest = get_pr_files(pull_request_number, REPO_ORG, REPO_NAME, GITHUB_TOKEN).json()"
   ]
  },
  {
   "cell_type": "code",
   "execution_count": 10,
   "id": "0e999ddd-68ee-402c-9b5d-600a69e16688",
   "metadata": {},
   "outputs": [],
   "source": [
    "file_content = get_file_content('https://api.github.com/repos/Kotchergenko-Engenharia/erp/contents/app%2FLivewire%2FFormItensMedidos.php?ref=456d6fcf7e5e3b94a16aedb6d5c8ef7e1e362efd', GITHUB_TOKEN)"
   ]
  }
 ],
 "metadata": {
  "kernelspec": {
   "display_name": "Python 3 (ipykernel)",
   "language": "python",
   "name": "python3"
  },
  "language_info": {
   "codemirror_mode": {
    "name": "ipython",
    "version": 3
   },
   "file_extension": ".py",
   "mimetype": "text/x-python",
   "name": "python",
   "nbconvert_exporter": "python",
   "pygments_lexer": "ipython3",
   "version": "3.10.12"
  }
 },
 "nbformat": 4,
 "nbformat_minor": 5
}
